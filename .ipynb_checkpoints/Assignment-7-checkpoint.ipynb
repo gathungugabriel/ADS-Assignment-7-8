{
 "cells": [
  {
   "cell_type": "markdown",
   "id": "4f877367",
   "metadata": {},
   "source": [
    "### ADS Assignment 7."
   ]
  },
  {
   "cell_type": "markdown",
   "id": "ae0ebe23",
   "metadata": {},
   "source": [
    "#### 1. Import the data set, ‘insurance’. The column ‘charges’ should be considered as your target label. "
   ]
  },
  {
   "cell_type": "markdown",
   "id": "60ae74c8",
   "metadata": {},
   "source": [
    "##### Importing libraries"
   ]
  },
  {
   "cell_type": "code",
   "execution_count": 50,
   "id": "c2981329",
   "metadata": {},
   "outputs": [
    {
     "name": "stdout",
     "output_type": "stream",
     "text": [
      "Requirement already satisfied: xgboost in c:\\users\\gabriel.githinji\\anaconda3\\lib\\site-packages (1.7.5)\n",
      "Requirement already satisfied: scipy in c:\\users\\gabriel.githinji\\anaconda3\\lib\\site-packages (from xgboost) (1.6.2)\n",
      "Requirement already satisfied: numpy in c:\\users\\gabriel.githinji\\anaconda3\\lib\\site-packages (from xgboost) (1.20.2)\n",
      "Note: you may need to restart the kernel to use updated packages.\n"
     ]
    }
   ],
   "source": [
    "pip install xgboost\n"
   ]
  },
  {
   "cell_type": "code",
   "execution_count": 52,
   "id": "236c6d5f",
   "metadata": {},
   "outputs": [],
   "source": [
    "import pandas as pd \n",
    "import numpy as np\n",
    "import matplotlib.pyplot as plt\n",
    "import seaborn as sns\n",
    "from scipy.stats import zscore\n",
    "from sklearn.model_selection import train_test_split\n",
    "from sklearn.preprocessing import StandardScaler\n",
    "# regression based models imports\n",
    "from sklearn.linear_model import LinearRegression\n",
    "from sklearn.tree import DecisionTreeRegressor\n",
    "from sklearn.ensemble import RandomForestRegressor\n",
    "from xgboost import XGBRegressor\n",
    "from sklearn.metrics import mean_squared_error, mean_absolute_error, r2_score\n",
    "\n"
   ]
  },
  {
   "cell_type": "markdown",
   "id": "edfe2739",
   "metadata": {},
   "source": [
    "##### Loading data"
   ]
  },
  {
   "cell_type": "code",
   "execution_count": 2,
   "id": "d6e9c574",
   "metadata": {},
   "outputs": [],
   "source": [
    "insurance_data = pd.read_csv(\"insurance.csv\")"
   ]
  },
  {
   "cell_type": "markdown",
   "id": "5a9e0e76",
   "metadata": {},
   "source": [
    "##### 2. Explore the data using at least 3 data exploratory tools of your choosing in pandas and interpret your observation in a markdown cell of what form of predictive analysis that can be conducted on the data. "
   ]
  },
  {
   "cell_type": "markdown",
   "id": "0d6add03",
   "metadata": {},
   "source": [
    "#### EDA"
   ]
  },
  {
   "cell_type": "code",
   "execution_count": 3,
   "id": "15dceb5c",
   "metadata": {},
   "outputs": [
    {
     "data": {
      "text/html": [
       "<div>\n",
       "<style scoped>\n",
       "    .dataframe tbody tr th:only-of-type {\n",
       "        vertical-align: middle;\n",
       "    }\n",
       "\n",
       "    .dataframe tbody tr th {\n",
       "        vertical-align: top;\n",
       "    }\n",
       "\n",
       "    .dataframe thead th {\n",
       "        text-align: right;\n",
       "    }\n",
       "</style>\n",
       "<table border=\"1\" class=\"dataframe\">\n",
       "  <thead>\n",
       "    <tr style=\"text-align: right;\">\n",
       "      <th></th>\n",
       "      <th>age</th>\n",
       "      <th>sex</th>\n",
       "      <th>bmi</th>\n",
       "      <th>children</th>\n",
       "      <th>smoker</th>\n",
       "      <th>region</th>\n",
       "      <th>charges</th>\n",
       "    </tr>\n",
       "  </thead>\n",
       "  <tbody>\n",
       "    <tr>\n",
       "      <th>0</th>\n",
       "      <td>19</td>\n",
       "      <td>female</td>\n",
       "      <td>27.90</td>\n",
       "      <td>0</td>\n",
       "      <td>yes</td>\n",
       "      <td>southwest</td>\n",
       "      <td>16884.9240</td>\n",
       "    </tr>\n",
       "    <tr>\n",
       "      <th>1</th>\n",
       "      <td>18</td>\n",
       "      <td>male</td>\n",
       "      <td>33.77</td>\n",
       "      <td>1</td>\n",
       "      <td>no</td>\n",
       "      <td>southeast</td>\n",
       "      <td>1725.5523</td>\n",
       "    </tr>\n",
       "    <tr>\n",
       "      <th>2</th>\n",
       "      <td>28</td>\n",
       "      <td>male</td>\n",
       "      <td>33.00</td>\n",
       "      <td>3</td>\n",
       "      <td>no</td>\n",
       "      <td>southeast</td>\n",
       "      <td>4449.4620</td>\n",
       "    </tr>\n",
       "  </tbody>\n",
       "</table>\n",
       "</div>"
      ],
      "text/plain": [
       "   age     sex    bmi  children smoker     region     charges\n",
       "0   19  female  27.90         0    yes  southwest  16884.9240\n",
       "1   18    male  33.77         1     no  southeast   1725.5523\n",
       "2   28    male  33.00         3     no  southeast   4449.4620"
      ]
     },
     "execution_count": 3,
     "metadata": {},
     "output_type": "execute_result"
    }
   ],
   "source": [
    "# Data inspection\n",
    "insurance_data.head(3)"
   ]
  },
  {
   "cell_type": "code",
   "execution_count": 4,
   "id": "2c2ffdda",
   "metadata": {},
   "outputs": [
    {
     "data": {
      "text/html": [
       "<div>\n",
       "<style scoped>\n",
       "    .dataframe tbody tr th:only-of-type {\n",
       "        vertical-align: middle;\n",
       "    }\n",
       "\n",
       "    .dataframe tbody tr th {\n",
       "        vertical-align: top;\n",
       "    }\n",
       "\n",
       "    .dataframe thead th {\n",
       "        text-align: right;\n",
       "    }\n",
       "</style>\n",
       "<table border=\"1\" class=\"dataframe\">\n",
       "  <thead>\n",
       "    <tr style=\"text-align: right;\">\n",
       "      <th></th>\n",
       "      <th>age</th>\n",
       "      <th>sex</th>\n",
       "      <th>bmi</th>\n",
       "      <th>children</th>\n",
       "      <th>smoker</th>\n",
       "      <th>region</th>\n",
       "      <th>charges</th>\n",
       "    </tr>\n",
       "  </thead>\n",
       "  <tbody>\n",
       "    <tr>\n",
       "      <th>1335</th>\n",
       "      <td>18</td>\n",
       "      <td>female</td>\n",
       "      <td>36.85</td>\n",
       "      <td>0</td>\n",
       "      <td>no</td>\n",
       "      <td>southeast</td>\n",
       "      <td>1629.8335</td>\n",
       "    </tr>\n",
       "    <tr>\n",
       "      <th>1336</th>\n",
       "      <td>21</td>\n",
       "      <td>female</td>\n",
       "      <td>25.80</td>\n",
       "      <td>0</td>\n",
       "      <td>no</td>\n",
       "      <td>southwest</td>\n",
       "      <td>2007.9450</td>\n",
       "    </tr>\n",
       "    <tr>\n",
       "      <th>1337</th>\n",
       "      <td>61</td>\n",
       "      <td>female</td>\n",
       "      <td>29.07</td>\n",
       "      <td>0</td>\n",
       "      <td>yes</td>\n",
       "      <td>northwest</td>\n",
       "      <td>29141.3603</td>\n",
       "    </tr>\n",
       "  </tbody>\n",
       "</table>\n",
       "</div>"
      ],
      "text/plain": [
       "      age     sex    bmi  children smoker     region     charges\n",
       "1335   18  female  36.85         0     no  southeast   1629.8335\n",
       "1336   21  female  25.80         0     no  southwest   2007.9450\n",
       "1337   61  female  29.07         0    yes  northwest  29141.3603"
      ]
     },
     "execution_count": 4,
     "metadata": {},
     "output_type": "execute_result"
    }
   ],
   "source": [
    "insurance_data.tail(3)"
   ]
  },
  {
   "cell_type": "code",
   "execution_count": 5,
   "id": "148cc768",
   "metadata": {},
   "outputs": [
    {
     "data": {
      "text/plain": [
       "(1338, 7)"
      ]
     },
     "execution_count": 5,
     "metadata": {},
     "output_type": "execute_result"
    }
   ],
   "source": [
    "insurance_data.shape"
   ]
  },
  {
   "cell_type": "code",
   "execution_count": 6,
   "id": "1aff0f95",
   "metadata": {},
   "outputs": [
    {
     "name": "stdout",
     "output_type": "stream",
     "text": [
      "<class 'pandas.core.frame.DataFrame'>\n",
      "RangeIndex: 1338 entries, 0 to 1337\n",
      "Data columns (total 7 columns):\n",
      " #   Column    Non-Null Count  Dtype  \n",
      "---  ------    --------------  -----  \n",
      " 0   age       1338 non-null   int64  \n",
      " 1   sex       1338 non-null   object \n",
      " 2   bmi       1338 non-null   float64\n",
      " 3   children  1338 non-null   int64  \n",
      " 4   smoker    1338 non-null   object \n",
      " 5   region    1338 non-null   object \n",
      " 6   charges   1338 non-null   float64\n",
      "dtypes: float64(2), int64(2), object(3)\n",
      "memory usage: 73.3+ KB\n"
     ]
    }
   ],
   "source": [
    "insurance_data.info()"
   ]
  },
  {
   "cell_type": "markdown",
   "id": "8d9c7a7f",
   "metadata": {},
   "source": [
    "* Insurance dataset has 1338 entries and 7 columns. \n",
    "* There are no null values throughout the dataset.\n",
    "* There are 4 numerical columns and 3 object type columns."
   ]
  },
  {
   "cell_type": "code",
   "execution_count": 7,
   "id": "5e198b6b",
   "metadata": {},
   "outputs": [
    {
     "data": {
      "text/html": [
       "<div>\n",
       "<style scoped>\n",
       "    .dataframe tbody tr th:only-of-type {\n",
       "        vertical-align: middle;\n",
       "    }\n",
       "\n",
       "    .dataframe tbody tr th {\n",
       "        vertical-align: top;\n",
       "    }\n",
       "\n",
       "    .dataframe thead th {\n",
       "        text-align: right;\n",
       "    }\n",
       "</style>\n",
       "<table border=\"1\" class=\"dataframe\">\n",
       "  <thead>\n",
       "    <tr style=\"text-align: right;\">\n",
       "      <th></th>\n",
       "      <th>age</th>\n",
       "      <th>bmi</th>\n",
       "      <th>children</th>\n",
       "      <th>charges</th>\n",
       "    </tr>\n",
       "  </thead>\n",
       "  <tbody>\n",
       "    <tr>\n",
       "      <th>count</th>\n",
       "      <td>1338.000000</td>\n",
       "      <td>1338.000000</td>\n",
       "      <td>1338.000000</td>\n",
       "      <td>1338.000000</td>\n",
       "    </tr>\n",
       "    <tr>\n",
       "      <th>mean</th>\n",
       "      <td>39.207025</td>\n",
       "      <td>30.663397</td>\n",
       "      <td>1.094918</td>\n",
       "      <td>13270.422265</td>\n",
       "    </tr>\n",
       "    <tr>\n",
       "      <th>std</th>\n",
       "      <td>14.049960</td>\n",
       "      <td>6.098187</td>\n",
       "      <td>1.205493</td>\n",
       "      <td>12110.011237</td>\n",
       "    </tr>\n",
       "    <tr>\n",
       "      <th>min</th>\n",
       "      <td>18.000000</td>\n",
       "      <td>15.960000</td>\n",
       "      <td>0.000000</td>\n",
       "      <td>1121.873900</td>\n",
       "    </tr>\n",
       "    <tr>\n",
       "      <th>25%</th>\n",
       "      <td>27.000000</td>\n",
       "      <td>26.296250</td>\n",
       "      <td>0.000000</td>\n",
       "      <td>4740.287150</td>\n",
       "    </tr>\n",
       "    <tr>\n",
       "      <th>50%</th>\n",
       "      <td>39.000000</td>\n",
       "      <td>30.400000</td>\n",
       "      <td>1.000000</td>\n",
       "      <td>9382.033000</td>\n",
       "    </tr>\n",
       "    <tr>\n",
       "      <th>75%</th>\n",
       "      <td>51.000000</td>\n",
       "      <td>34.693750</td>\n",
       "      <td>2.000000</td>\n",
       "      <td>16639.912515</td>\n",
       "    </tr>\n",
       "    <tr>\n",
       "      <th>max</th>\n",
       "      <td>64.000000</td>\n",
       "      <td>53.130000</td>\n",
       "      <td>5.000000</td>\n",
       "      <td>63770.428010</td>\n",
       "    </tr>\n",
       "  </tbody>\n",
       "</table>\n",
       "</div>"
      ],
      "text/plain": [
       "               age          bmi     children       charges\n",
       "count  1338.000000  1338.000000  1338.000000   1338.000000\n",
       "mean     39.207025    30.663397     1.094918  13270.422265\n",
       "std      14.049960     6.098187     1.205493  12110.011237\n",
       "min      18.000000    15.960000     0.000000   1121.873900\n",
       "25%      27.000000    26.296250     0.000000   4740.287150\n",
       "50%      39.000000    30.400000     1.000000   9382.033000\n",
       "75%      51.000000    34.693750     2.000000  16639.912515\n",
       "max      64.000000    53.130000     5.000000  63770.428010"
      ]
     },
     "execution_count": 7,
     "metadata": {},
     "output_type": "execute_result"
    }
   ],
   "source": [
    "insurance_data.describe()"
   ]
  },
  {
   "cell_type": "markdown",
   "id": "30836a62",
   "metadata": {},
   "source": [
    "* The age of the individuals ranges from 18 to 64, with a mean of 39.2 years.\n",
    "* The BMI (body mass index) of the individuals ranges from 15.96 to 53.13, with a mean of 30.7.\n",
    "* The number of children of the individuals ranges from 0 to 5, with a mean of 1.09.\n",
    "* The charges for insurance range from 1121.87 to 63770.43, with a mean of 13270.42.\n",
    "\n",
    ">>>Based on these observations, several predictive analyses can be conducted on the data, depending on the research question and the problem being addressed. Some common predictive analyses that can be conducted on this data include:\n",
    "\n",
    "1. Predicting insurance charges based on age, BMI, and number of children using regression analysis.\n",
    "2. Predicting whether an individual will have high or low insurance charges using classification analysis.\n",
    "3. Exploring the relationship between age, BMI, and insurance charges using correlation analysis.\n",
    "4. Clustering the individuals based on their age, BMI, number of children, and charges using clustering analysis.\n",
    "5. Association Rule Mining:Use association rule mining to find patterns between the features in the dataset and the occurrence of smoking among the individuals."
   ]
  },
  {
   "cell_type": "markdown",
   "id": "9c3bd957",
   "metadata": {},
   "source": [
    "#### 3. Visualize the age distribution for the column ‘age’ and comment on the results in a markdown cell as well. (Ensure your visualization is of an appropriate size for effective analysis)"
   ]
  },
  {
   "cell_type": "code",
   "execution_count": 8,
   "id": "79f09886",
   "metadata": {},
   "outputs": [
    {
     "data": {
      "image/png": "[encoded data removed]",
      "text/plain": [
       "<Figure size 576x432 with 1 Axes>"
      ]
     },
     "metadata": {
      "needs_background": "light"
     },
     "output_type": "display_data"
    }
   ],
   "source": [
    "plt.figure(figsize=(8, 6))\n",
    "sns.histplot(data=insurance_data, x='age', bins=20)\n",
    "plt.title('Age Distribution')\n",
    "plt.xlabel('Age')\n",
    "plt.ylabel('Frequency')\n",
    "plt.show()\n"
   ]
  },
  {
   "cell_type": "markdown",
   "id": "755147ab",
   "metadata": {},
   "source": [
    ">>>Based on the histogram plot, it can be observed that the age distribution is roughly normal with a peak around the age of 18 to 20. The distribution is slightly skewed to the right with a long tail towards the older ages. The most frequent age group appears to be in the range of 18 to 22 years old.\n",
    "Thus,the majority of the individuals in the insurance dataset are relatively young, with fewer older individuals."
   ]
  },
  {
   "cell_type": "markdown",
   "id": "f23ba1a8",
   "metadata": {},
   "source": [
    "### 4. Isolate all the continuous and discrete columns into their respective lists named ‘numerical_continuous’ and ‘numerical_discrete’ respectively. "
   ]
  },
  {
   "cell_type": "code",
   "execution_count": 9,
   "id": "977d2596",
   "metadata": {},
   "outputs": [
    {
     "name": "stdout",
     "output_type": "stream",
     "text": [
      "<class 'pandas.core.frame.DataFrame'>\n",
      "RangeIndex: 1338 entries, 0 to 1337\n",
      "Data columns (total 7 columns):\n",
      " #   Column    Non-Null Count  Dtype  \n",
      "---  ------    --------------  -----  \n",
      " 0   age       1338 non-null   int64  \n",
      " 1   sex       1338 non-null   object \n",
      " 2   bmi       1338 non-null   float64\n",
      " 3   children  1338 non-null   int64  \n",
      " 4   smoker    1338 non-null   object \n",
      " 5   region    1338 non-null   object \n",
      " 6   charges   1338 non-null   float64\n",
      "dtypes: float64(2), int64(2), object(3)\n",
      "memory usage: 73.3+ KB\n"
     ]
    }
   ],
   "source": [
    "insurance_data.info()"
   ]
  },
  {
   "cell_type": "code",
   "execution_count": 10,
   "id": "ae101eac",
   "metadata": {},
   "outputs": [],
   "source": [
    "numerical_continuous = ['age', 'bmi', 'charges']\n",
    "numerical_discrete = ['children']\n"
   ]
  },
  {
   "cell_type": "markdown",
   "id": "8cebd8d8",
   "metadata": {},
   "source": [
    "### 5. Visually identify if there is presence of any outliers in the numerical_continuous columns and resolve them using a zscore test and a threshold of your choosing. "
   ]
  },
  {
   "cell_type": "code",
   "execution_count": 11,
   "id": "33675d9e",
   "metadata": {
    "scrolled": false
   },
   "outputs": [
    {
     "name": "stdout",
     "output_type": "stream",
     "text": [
      "age\n"
     ]
    },
    {
     "data": {
      "image/png": "[encoded data removed]",
      "text/plain": [
       "<Figure size 576x432 with 1 Axes>"
      ]
     },
     "metadata": {
      "needs_background": "light"
     },
     "output_type": "display_data"
    },
    {
     "name": "stdout",
     "output_type": "stream",
     "text": [
      "bmi\n"
     ]
    },
    {
     "data": {
      "image/png": "[encoded data removed]",
      "text/plain": [
       "<Figure size 576x432 with 1 Axes>"
      ]
     },
     "metadata": {
      "needs_background": "light"
     },
     "output_type": "display_data"
    },
    {
     "name": "stdout",
     "output_type": "stream",
     "text": [
      "charges\n"
     ]
    },
    {
     "data": {
      "image/png": "[encoded data removed]",
      "text/plain": [
       "<Figure size 576x432 with 1 Axes>"
      ]
     },
     "metadata": {
      "needs_background": "light"
     },
     "output_type": "display_data"
    }
   ],
   "source": [
    "for i in numerical_continuous:\n",
    "    print(i)\n",
    "    plt.figure(figsize=(8,6))\n",
    "    plt.boxplot(insurance_data[i])\n",
    "    plt.title(i + \" Boxplot\")\n",
    "    plt.show()"
   ]
  },
  {
   "cell_type": "markdown",
   "id": "0cf77abf",
   "metadata": {},
   "source": [
    ">>> Only 'bmi' and 'charges' columns have outliers as observed from the above box plots."
   ]
  },
  {
   "cell_type": "markdown",
   "id": "ccf83dee",
   "metadata": {},
   "source": [
    "### Removing outliers using Zscore test "
   ]
  },
  {
   "cell_type": "code",
   "execution_count": 12,
   "id": "b7447dce",
   "metadata": {},
   "outputs": [],
   "source": [
    "threshold = 3\n",
    "bmi_zscores = zscore(insurance_data['bmi'])\n",
    "charges_zscores = zscore(insurance_data['charges'])\n",
    "outliers = (abs(bmi_zscores) > threshold) | (abs(charges_zscores) > threshold)\n",
    "insurance_data_cleaned = insurance_data.loc[~outliers]"
   ]
  },
  {
   "cell_type": "markdown",
   "id": "1fceb7e4",
   "metadata": {},
   "source": [
    "### 6. Validate that your analysis above was successful by visualizing the value distribution in the resulting columns using an appropriate visualization method. "
   ]
  },
  {
   "cell_type": "code",
   "execution_count": 13,
   "id": "5424f32e",
   "metadata": {},
   "outputs": [
    {
     "data": {
      "text/html": [
       "<div>\n",
       "<style scoped>\n",
       "    .dataframe tbody tr th:only-of-type {\n",
       "        vertical-align: middle;\n",
       "    }\n",
       "\n",
       "    .dataframe tbody tr th {\n",
       "        vertical-align: top;\n",
       "    }\n",
       "\n",
       "    .dataframe thead th {\n",
       "        text-align: right;\n",
       "    }\n",
       "</style>\n",
       "<table border=\"1\" class=\"dataframe\">\n",
       "  <thead>\n",
       "    <tr style=\"text-align: right;\">\n",
       "      <th></th>\n",
       "      <th>age</th>\n",
       "      <th>sex</th>\n",
       "      <th>bmi</th>\n",
       "      <th>children</th>\n",
       "      <th>smoker</th>\n",
       "      <th>region</th>\n",
       "      <th>charges</th>\n",
       "    </tr>\n",
       "  </thead>\n",
       "  <tbody>\n",
       "    <tr>\n",
       "      <th>0</th>\n",
       "      <td>19</td>\n",
       "      <td>female</td>\n",
       "      <td>27.900</td>\n",
       "      <td>0</td>\n",
       "      <td>yes</td>\n",
       "      <td>southwest</td>\n",
       "      <td>16884.92400</td>\n",
       "    </tr>\n",
       "    <tr>\n",
       "      <th>1</th>\n",
       "      <td>18</td>\n",
       "      <td>male</td>\n",
       "      <td>33.770</td>\n",
       "      <td>1</td>\n",
       "      <td>no</td>\n",
       "      <td>southeast</td>\n",
       "      <td>1725.55230</td>\n",
       "    </tr>\n",
       "    <tr>\n",
       "      <th>2</th>\n",
       "      <td>28</td>\n",
       "      <td>male</td>\n",
       "      <td>33.000</td>\n",
       "      <td>3</td>\n",
       "      <td>no</td>\n",
       "      <td>southeast</td>\n",
       "      <td>4449.46200</td>\n",
       "    </tr>\n",
       "    <tr>\n",
       "      <th>3</th>\n",
       "      <td>33</td>\n",
       "      <td>male</td>\n",
       "      <td>22.705</td>\n",
       "      <td>0</td>\n",
       "      <td>no</td>\n",
       "      <td>northwest</td>\n",
       "      <td>21984.47061</td>\n",
       "    </tr>\n",
       "    <tr>\n",
       "      <th>4</th>\n",
       "      <td>32</td>\n",
       "      <td>male</td>\n",
       "      <td>28.880</td>\n",
       "      <td>0</td>\n",
       "      <td>no</td>\n",
       "      <td>northwest</td>\n",
       "      <td>3866.85520</td>\n",
       "    </tr>\n",
       "    <tr>\n",
       "      <th>...</th>\n",
       "      <td>...</td>\n",
       "      <td>...</td>\n",
       "      <td>...</td>\n",
       "      <td>...</td>\n",
       "      <td>...</td>\n",
       "      <td>...</td>\n",
       "      <td>...</td>\n",
       "    </tr>\n",
       "    <tr>\n",
       "      <th>1333</th>\n",
       "      <td>50</td>\n",
       "      <td>male</td>\n",
       "      <td>30.970</td>\n",
       "      <td>3</td>\n",
       "      <td>no</td>\n",
       "      <td>northwest</td>\n",
       "      <td>10600.54830</td>\n",
       "    </tr>\n",
       "    <tr>\n",
       "      <th>1334</th>\n",
       "      <td>18</td>\n",
       "      <td>female</td>\n",
       "      <td>31.920</td>\n",
       "      <td>0</td>\n",
       "      <td>no</td>\n",
       "      <td>northeast</td>\n",
       "      <td>2205.98080</td>\n",
       "    </tr>\n",
       "    <tr>\n",
       "      <th>1335</th>\n",
       "      <td>18</td>\n",
       "      <td>female</td>\n",
       "      <td>36.850</td>\n",
       "      <td>0</td>\n",
       "      <td>no</td>\n",
       "      <td>southeast</td>\n",
       "      <td>1629.83350</td>\n",
       "    </tr>\n",
       "    <tr>\n",
       "      <th>1336</th>\n",
       "      <td>21</td>\n",
       "      <td>female</td>\n",
       "      <td>25.800</td>\n",
       "      <td>0</td>\n",
       "      <td>no</td>\n",
       "      <td>southwest</td>\n",
       "      <td>2007.94500</td>\n",
       "    </tr>\n",
       "    <tr>\n",
       "      <th>1337</th>\n",
       "      <td>61</td>\n",
       "      <td>female</td>\n",
       "      <td>29.070</td>\n",
       "      <td>0</td>\n",
       "      <td>yes</td>\n",
       "      <td>northwest</td>\n",
       "      <td>29141.36030</td>\n",
       "    </tr>\n",
       "  </tbody>\n",
       "</table>\n",
       "<p>1327 rows × 7 columns</p>\n",
       "</div>"
      ],
      "text/plain": [
       "      age     sex     bmi  children smoker     region      charges\n",
       "0      19  female  27.900         0    yes  southwest  16884.92400\n",
       "1      18    male  33.770         1     no  southeast   1725.55230\n",
       "2      28    male  33.000         3     no  southeast   4449.46200\n",
       "3      33    male  22.705         0     no  northwest  21984.47061\n",
       "4      32    male  28.880         0     no  northwest   3866.85520\n",
       "...   ...     ...     ...       ...    ...        ...          ...\n",
       "1333   50    male  30.970         3     no  northwest  10600.54830\n",
       "1334   18  female  31.920         0     no  northeast   2205.98080\n",
       "1335   18  female  36.850         0     no  southeast   1629.83350\n",
       "1336   21  female  25.800         0     no  southwest   2007.94500\n",
       "1337   61  female  29.070         0    yes  northwest  29141.36030\n",
       "\n",
       "[1327 rows x 7 columns]"
      ]
     },
     "execution_count": 13,
     "metadata": {},
     "output_type": "execute_result"
    }
   ],
   "source": [
    "insurance_data_cleaned"
   ]
  },
  {
   "cell_type": "code",
   "execution_count": 14,
   "id": "8d664689",
   "metadata": {},
   "outputs": [
    {
     "data": {
      "image/png": "[encoded data removed]",
      "text/plain": [
       "<Figure size 864x432 with 2 Axes>"
      ]
     },
     "metadata": {
      "needs_background": "light"
     },
     "output_type": "display_data"
    }
   ],
   "source": [
    "fig, axs = plt.subplots(ncols=2, figsize=(12, 6))\n",
    "sns.kdeplot(insurance_data_cleaned['charges'], shade=True, color='skyblue', ax=axs[0])\n",
    "axs[0].set_title('Distribution of Charges after Outlier Removal')\n",
    "axs[0].set_xlabel('Charges')\n",
    "axs[0].set_ylabel('Density')\n",
    "\n",
    "sns.kdeplot(insurance_data_cleaned['bmi'], shade=True, color='purple', ax=axs[1])\n",
    "axs[1].set_title('Distribution of BMI after Outlier Removal')\n",
    "axs[1].set_xlabel('BMI')\n",
    "axs[1].set_ylabel('Density')\n",
    "\n",
    "plt.tight_layout()\n",
    "plt.show()\n"
   ]
  },
  {
   "cell_type": "code",
   "execution_count": 15,
   "id": "05d17d6c",
   "metadata": {},
   "outputs": [
    {
     "data": {
      "text/plain": [
       "49577.6624"
      ]
     },
     "execution_count": 15,
     "metadata": {},
     "output_type": "execute_result"
    }
   ],
   "source": [
    "insurance_data_cleaned.charges.max()"
   ]
  },
  {
   "cell_type": "markdown",
   "id": "d10d1af5",
   "metadata": {},
   "source": [
    "### 7. Isolate all the categorical column names into a list named ‘categorical’. "
   ]
  },
  {
   "cell_type": "code",
   "execution_count": 16,
   "id": "db600033",
   "metadata": {},
   "outputs": [
    {
     "name": "stdout",
     "output_type": "stream",
     "text": [
      "age: 47\n",
      "sex: 2\n",
      "bmi: 541\n",
      "children: 6\n",
      "smoker: 2\n",
      "region: 4\n",
      "charges: 1326\n"
     ]
    },
    {
     "data": {
      "text/plain": [
       "['sex', 'smoker', 'region']"
      ]
     },
     "execution_count": 16,
     "metadata": {},
     "output_type": "execute_result"
    }
   ],
   "source": [
    "categorical = []\n",
    "for col in insurance_data_cleaned.columns:\n",
    "    unique_vals_sum = len(insurance_data_cleaned[col].unique())\n",
    "    print(f\"{col}: {unique_vals_sum}\")\n",
    "    if unique_vals_sum <= 5:\n",
    "        categorical.append(col)\n",
    "        \n",
    "\n",
    "categorical"
   ]
  },
  {
   "cell_type": "markdown",
   "id": "97c177b8",
   "metadata": {},
   "source": [
    "### 8. Visually identify the outliers in the discrete and categorical features and resolve them using the combined rare levels method."
   ]
  },
  {
   "cell_type": "code",
   "execution_count": 17,
   "id": "2c4186e1",
   "metadata": {},
   "outputs": [
    {
     "data": {
      "image/png": "[encoded data removed]",
      "text/plain": [
       "<Figure size 432x288 with 1 Axes>"
      ]
     },
     "metadata": {},
     "output_type": "display_data"
    },
    {
     "data": {
      "image/png": "[encoded data removed]",
      "text/plain": [
       "<Figure size 432x288 with 1 Axes>"
      ]
     },
     "metadata": {},
     "output_type": "display_data"
    },
    {
     "data": {
      "image/png": "[encoded data removed]",
      "text/plain": [
       "<Figure size 432x288 with 1 Axes>"
      ]
     },
     "metadata": {},
     "output_type": "display_data"
    },
    {
     "data": {
      "image/png": "[encoded data removed]",
      "text/plain": [
       "<Figure size 432x288 with 1 Axes>"
      ]
     },
     "metadata": {},
     "output_type": "display_data"
    }
   ],
   "source": [
    "plt.style.use('ggplot')\n",
    "for col in numerical_discrete + categorical:\n",
    "    counts = insurance_data_cleaned[col].value_counts()\n",
    "    labels = [f\"{val} ({counts[val]})\" for val in counts.index]\n",
    "    plt.pie(counts, labels=labels, autopct='%1.1f%%')\n",
    "    plt.title(col.upper())\n",
    "    plt.axis('equal')\n",
    "    plt.show()\n",
    "\n",
    "\n"
   ]
  },
  {
   "cell_type": "markdown",
   "id": "e325f4f3",
   "metadata": {},
   "source": [
    ">>>As a general rule of thumb, if a category has a frequency of less than 5% or 10%, it could be considered rare and be combined with other categories. From the visualization observations, the only column with values constituting such a low occurence is the 'children' column, where the number of children is 4 or 5."
   ]
  },
  {
   "cell_type": "markdown",
   "id": "9aa5edca",
   "metadata": {},
   "source": [
    "### Resolving outliers in 'children' column using the combined rare levels method."
   ]
  },
  {
   "cell_type": "code",
   "execution_count": 18,
   "id": "6a6a66f7",
   "metadata": {},
   "outputs": [
    {
     "name": "stderr",
     "output_type": "stream",
     "text": [
      "C:\\Users\\gabriel.githinji\\Anaconda3\\lib\\site-packages\\pandas\\core\\indexing.py:1720: SettingWithCopyWarning: \n",
      "A value is trying to be set on a copy of a slice from a DataFrame.\n",
      "Try using .loc[row_indexer,col_indexer] = value instead\n",
      "\n",
      "See the caveats in the documentation: https://pandas.pydata.org/pandas-docs/stable/user_guide/indexing.html#returning-a-view-versus-a-copy\n",
      "  self._setitem_single_column(loc, value, pi)\n"
     ]
    },
    {
     "data": {
      "text/html": [
       "<div>\n",
       "<style scoped>\n",
       "    .dataframe tbody tr th:only-of-type {\n",
       "        vertical-align: middle;\n",
       "    }\n",
       "\n",
       "    .dataframe tbody tr th {\n",
       "        vertical-align: top;\n",
       "    }\n",
       "\n",
       "    .dataframe thead th {\n",
       "        text-align: right;\n",
       "    }\n",
       "</style>\n",
       "<table border=\"1\" class=\"dataframe\">\n",
       "  <thead>\n",
       "    <tr style=\"text-align: right;\">\n",
       "      <th></th>\n",
       "      <th>age</th>\n",
       "      <th>sex</th>\n",
       "      <th>bmi</th>\n",
       "      <th>children</th>\n",
       "      <th>smoker</th>\n",
       "      <th>region</th>\n",
       "      <th>charges</th>\n",
       "    </tr>\n",
       "  </thead>\n",
       "  <tbody>\n",
       "    <tr>\n",
       "      <th>0</th>\n",
       "      <td>19</td>\n",
       "      <td>female</td>\n",
       "      <td>27.900</td>\n",
       "      <td>0</td>\n",
       "      <td>yes</td>\n",
       "      <td>southwest</td>\n",
       "      <td>16884.92400</td>\n",
       "    </tr>\n",
       "    <tr>\n",
       "      <th>1</th>\n",
       "      <td>18</td>\n",
       "      <td>male</td>\n",
       "      <td>33.770</td>\n",
       "      <td>1</td>\n",
       "      <td>no</td>\n",
       "      <td>southeast</td>\n",
       "      <td>1725.55230</td>\n",
       "    </tr>\n",
       "    <tr>\n",
       "      <th>2</th>\n",
       "      <td>28</td>\n",
       "      <td>male</td>\n",
       "      <td>33.000</td>\n",
       "      <td>3</td>\n",
       "      <td>no</td>\n",
       "      <td>southeast</td>\n",
       "      <td>4449.46200</td>\n",
       "    </tr>\n",
       "    <tr>\n",
       "      <th>3</th>\n",
       "      <td>33</td>\n",
       "      <td>male</td>\n",
       "      <td>22.705</td>\n",
       "      <td>0</td>\n",
       "      <td>no</td>\n",
       "      <td>northwest</td>\n",
       "      <td>21984.47061</td>\n",
       "    </tr>\n",
       "    <tr>\n",
       "      <th>4</th>\n",
       "      <td>32</td>\n",
       "      <td>male</td>\n",
       "      <td>28.880</td>\n",
       "      <td>0</td>\n",
       "      <td>no</td>\n",
       "      <td>northwest</td>\n",
       "      <td>3866.85520</td>\n",
       "    </tr>\n",
       "    <tr>\n",
       "      <th>...</th>\n",
       "      <td>...</td>\n",
       "      <td>...</td>\n",
       "      <td>...</td>\n",
       "      <td>...</td>\n",
       "      <td>...</td>\n",
       "      <td>...</td>\n",
       "      <td>...</td>\n",
       "    </tr>\n",
       "    <tr>\n",
       "      <th>1333</th>\n",
       "      <td>50</td>\n",
       "      <td>male</td>\n",
       "      <td>30.970</td>\n",
       "      <td>3</td>\n",
       "      <td>no</td>\n",
       "      <td>northwest</td>\n",
       "      <td>10600.54830</td>\n",
       "    </tr>\n",
       "    <tr>\n",
       "      <th>1334</th>\n",
       "      <td>18</td>\n",
       "      <td>female</td>\n",
       "      <td>31.920</td>\n",
       "      <td>0</td>\n",
       "      <td>no</td>\n",
       "      <td>northeast</td>\n",
       "      <td>2205.98080</td>\n",
       "    </tr>\n",
       "    <tr>\n",
       "      <th>1335</th>\n",
       "      <td>18</td>\n",
       "      <td>female</td>\n",
       "      <td>36.850</td>\n",
       "      <td>0</td>\n",
       "      <td>no</td>\n",
       "      <td>southeast</td>\n",
       "      <td>1629.83350</td>\n",
       "    </tr>\n",
       "    <tr>\n",
       "      <th>1336</th>\n",
       "      <td>21</td>\n",
       "      <td>female</td>\n",
       "      <td>25.800</td>\n",
       "      <td>0</td>\n",
       "      <td>no</td>\n",
       "      <td>southwest</td>\n",
       "      <td>2007.94500</td>\n",
       "    </tr>\n",
       "    <tr>\n",
       "      <th>1337</th>\n",
       "      <td>61</td>\n",
       "      <td>female</td>\n",
       "      <td>29.070</td>\n",
       "      <td>0</td>\n",
       "      <td>yes</td>\n",
       "      <td>northwest</td>\n",
       "      <td>29141.36030</td>\n",
       "    </tr>\n",
       "  </tbody>\n",
       "</table>\n",
       "<p>1327 rows × 7 columns</p>\n",
       "</div>"
      ],
      "text/plain": [
       "      age     sex     bmi children smoker     region      charges\n",
       "0      19  female  27.900        0    yes  southwest  16884.92400\n",
       "1      18    male  33.770        1     no  southeast   1725.55230\n",
       "2      28    male  33.000        3     no  southeast   4449.46200\n",
       "3      33    male  22.705        0     no  northwest  21984.47061\n",
       "4      32    male  28.880        0     no  northwest   3866.85520\n",
       "...   ...     ...     ...      ...    ...        ...          ...\n",
       "1333   50    male  30.970        3     no  northwest  10600.54830\n",
       "1334   18  female  31.920        0     no  northeast   2205.98080\n",
       "1335   18  female  36.850        0     no  southeast   1629.83350\n",
       "1336   21  female  25.800        0     no  southwest   2007.94500\n",
       "1337   61  female  29.070        0    yes  northwest  29141.36030\n",
       "\n",
       "[1327 rows x 7 columns]"
      ]
     },
     "execution_count": 18,
     "metadata": {},
     "output_type": "execute_result"
    }
   ],
   "source": [
    "insurance_data_cleaned.loc[insurance_data_cleaned['children'].isin([4, 5]), 'children'] = 'Over 4'\n",
    "insurance_data_cleaned"
   ]
  },
  {
   "cell_type": "markdown",
   "id": "56ba6b0e",
   "metadata": {},
   "source": [
    "### 9. Encode the discrete and categorical features encoding method of your choosing.\n"
   ]
  },
  {
   "cell_type": "markdown",
   "id": "54fed2ee",
   "metadata": {},
   "source": [
    "### Categorical features encoding with one-hot method"
   ]
  },
  {
   "cell_type": "code",
   "execution_count": 19,
   "id": "4962c6e9",
   "metadata": {},
   "outputs": [
    {
     "data": {
      "text/html": [
       "<div>\n",
       "<style scoped>\n",
       "    .dataframe tbody tr th:only-of-type {\n",
       "        vertical-align: middle;\n",
       "    }\n",
       "\n",
       "    .dataframe tbody tr th {\n",
       "        vertical-align: top;\n",
       "    }\n",
       "\n",
       "    .dataframe thead th {\n",
       "        text-align: right;\n",
       "    }\n",
       "</style>\n",
       "<table border=\"1\" class=\"dataframe\">\n",
       "  <thead>\n",
       "    <tr style=\"text-align: right;\">\n",
       "      <th></th>\n",
       "      <th>age</th>\n",
       "      <th>bmi</th>\n",
       "      <th>charges</th>\n",
       "      <th>sex_female</th>\n",
       "      <th>sex_male</th>\n",
       "      <th>smoker_no</th>\n",
       "      <th>smoker_yes</th>\n",
       "      <th>region_northeast</th>\n",
       "      <th>region_northwest</th>\n",
       "      <th>region_southeast</th>\n",
       "      <th>region_southwest</th>\n",
       "      <th>children_0</th>\n",
       "      <th>children_1</th>\n",
       "      <th>children_2</th>\n",
       "      <th>children_3</th>\n",
       "      <th>children_Over 4</th>\n",
       "    </tr>\n",
       "  </thead>\n",
       "  <tbody>\n",
       "    <tr>\n",
       "      <th>0</th>\n",
       "      <td>19</td>\n",
       "      <td>27.900</td>\n",
       "      <td>16884.92400</td>\n",
       "      <td>1</td>\n",
       "      <td>0</td>\n",
       "      <td>0</td>\n",
       "      <td>1</td>\n",
       "      <td>0</td>\n",
       "      <td>0</td>\n",
       "      <td>0</td>\n",
       "      <td>1</td>\n",
       "      <td>1</td>\n",
       "      <td>0</td>\n",
       "      <td>0</td>\n",
       "      <td>0</td>\n",
       "      <td>0</td>\n",
       "    </tr>\n",
       "    <tr>\n",
       "      <th>1</th>\n",
       "      <td>18</td>\n",
       "      <td>33.770</td>\n",
       "      <td>1725.55230</td>\n",
       "      <td>0</td>\n",
       "      <td>1</td>\n",
       "      <td>1</td>\n",
       "      <td>0</td>\n",
       "      <td>0</td>\n",
       "      <td>0</td>\n",
       "      <td>1</td>\n",
       "      <td>0</td>\n",
       "      <td>0</td>\n",
       "      <td>1</td>\n",
       "      <td>0</td>\n",
       "      <td>0</td>\n",
       "      <td>0</td>\n",
       "    </tr>\n",
       "    <tr>\n",
       "      <th>2</th>\n",
       "      <td>28</td>\n",
       "      <td>33.000</td>\n",
       "      <td>4449.46200</td>\n",
       "      <td>0</td>\n",
       "      <td>1</td>\n",
       "      <td>1</td>\n",
       "      <td>0</td>\n",
       "      <td>0</td>\n",
       "      <td>0</td>\n",
       "      <td>1</td>\n",
       "      <td>0</td>\n",
       "      <td>0</td>\n",
       "      <td>0</td>\n",
       "      <td>0</td>\n",
       "      <td>1</td>\n",
       "      <td>0</td>\n",
       "    </tr>\n",
       "    <tr>\n",
       "      <th>3</th>\n",
       "      <td>33</td>\n",
       "      <td>22.705</td>\n",
       "      <td>21984.47061</td>\n",
       "      <td>0</td>\n",
       "      <td>1</td>\n",
       "      <td>1</td>\n",
       "      <td>0</td>\n",
       "      <td>0</td>\n",
       "      <td>1</td>\n",
       "      <td>0</td>\n",
       "      <td>0</td>\n",
       "      <td>1</td>\n",
       "      <td>0</td>\n",
       "      <td>0</td>\n",
       "      <td>0</td>\n",
       "      <td>0</td>\n",
       "    </tr>\n",
       "    <tr>\n",
       "      <th>4</th>\n",
       "      <td>32</td>\n",
       "      <td>28.880</td>\n",
       "      <td>3866.85520</td>\n",
       "      <td>0</td>\n",
       "      <td>1</td>\n",
       "      <td>1</td>\n",
       "      <td>0</td>\n",
       "      <td>0</td>\n",
       "      <td>1</td>\n",
       "      <td>0</td>\n",
       "      <td>0</td>\n",
       "      <td>1</td>\n",
       "      <td>0</td>\n",
       "      <td>0</td>\n",
       "      <td>0</td>\n",
       "      <td>0</td>\n",
       "    </tr>\n",
       "  </tbody>\n",
       "</table>\n",
       "</div>"
      ],
      "text/plain": [
       "   age     bmi      charges  sex_female  sex_male  smoker_no  smoker_yes  \\\n",
       "0   19  27.900  16884.92400           1         0          0           1   \n",
       "1   18  33.770   1725.55230           0         1          1           0   \n",
       "2   28  33.000   4449.46200           0         1          1           0   \n",
       "3   33  22.705  21984.47061           0         1          1           0   \n",
       "4   32  28.880   3866.85520           0         1          1           0   \n",
       "\n",
       "   region_northeast  region_northwest  region_southeast  region_southwest  \\\n",
       "0                 0                 0                 0                 1   \n",
       "1                 0                 0                 1                 0   \n",
       "2                 0                 0                 1                 0   \n",
       "3                 0                 1                 0                 0   \n",
       "4                 0                 1                 0                 0   \n",
       "\n",
       "   children_0  children_1  children_2  children_3  children_Over 4  \n",
       "0           1           0           0           0                0  \n",
       "1           0           1           0           0                0  \n",
       "2           0           0           0           1                0  \n",
       "3           1           0           0           0                0  \n",
       "4           1           0           0           0                0  "
      ]
     },
     "execution_count": 19,
     "metadata": {},
     "output_type": "execute_result"
    }
   ],
   "source": [
    "categorical = ['sex', 'smoker', 'region', 'children']\n",
    "\n",
    "\n",
    "# create a new dataframe with the one-hot encoded features\n",
    "insurance_data_encoded = pd.get_dummies(insurance_data_cleaned, columns=categorical )\n",
    "\n",
    "# print the first few rows of the encoded dataframe\n",
    "insurance_data_encoded.head()"
   ]
  },
  {
   "cell_type": "markdown",
   "id": "18125da1",
   "metadata": {},
   "source": [
    "### 10. Separate your features from the target appropriately. Narrow down the number of features to 5 using the most appropriate and accurate method. Which feature had to be dropped and what inference would you give as the main contributor of dropping the given feature."
   ]
  },
  {
   "cell_type": "markdown",
   "id": "3162670a",
   "metadata": {},
   "source": [
    "### Separating  features from the target"
   ]
  },
  {
   "cell_type": "code",
   "execution_count": 22,
   "id": "65f28fd7",
   "metadata": {},
   "outputs": [],
   "source": [
    "# select all columns except for the target variable\n",
    "X = insurance_data_encoded.drop('charges', axis=1)\n",
    "\n",
    "# select only the target variable\n",
    "y = insurance_data_encoded['charges']\n"
   ]
  },
  {
   "cell_type": "markdown",
   "id": "5e5a8227",
   "metadata": {},
   "source": [
    "### Feature selection"
   ]
  },
  {
   "cell_type": "markdown",
   "id": "06da4b40",
   "metadata": {},
   "source": [
    "#### a. Univariate Feature Selection"
   ]
  },
  {
   "cell_type": "code",
   "execution_count": 37,
   "id": "fbd89fed",
   "metadata": {},
   "outputs": [
    {
     "data": {
      "text/plain": [
       "array([[19.  , 27.9 ,  0.  ,  1.  ,  0.  ],\n",
       "       [18.  , 33.77,  1.  ,  0.  ,  0.  ],\n",
       "       [28.  , 33.  ,  1.  ,  0.  ,  0.  ],\n",
       "       ...,\n",
       "       [18.  , 36.85,  1.  ,  0.  ,  0.  ],\n",
       "       [21.  , 25.8 ,  1.  ,  0.  ,  0.  ],\n",
       "       [61.  , 29.07,  0.  ,  1.  ,  0.  ]])"
      ]
     },
     "execution_count": 37,
     "metadata": {},
     "output_type": "execute_result"
    }
   ],
   "source": [
    "\n",
    "from sklearn.feature_selection import SelectKBest, f_regression\n",
    "\n",
    "# Select the top 5 features based on the f_regression score\n",
    "selector = SelectKBest(f_regression, k=5)\n",
    "\n",
    "# Fit selector to X and y\n",
    "selector.fit(X, y)\n",
    "\n",
    "# Get the top 5 feature names\n",
    "top_5_feature_names = X.columns[selector.get_support()]\n",
    "\n",
    "# Subset X to only include the top 5 features\n",
    "X_top5 = selector.transform(X)\n",
    "top_5_feature_names"
   ]
  },
  {
   "cell_type": "markdown",
   "id": "fa873b56",
   "metadata": {},
   "source": [
    "#### b. Using Correlation Matrix: "
   ]
  },
  {
   "cell_type": "code",
   "execution_count": 31,
   "id": "3b46741e",
   "metadata": {
    "scrolled": false
   },
   "outputs": [
    {
     "name": "stdout",
     "output_type": "stream",
     "text": [
      "['smoker_yes', 'smoker_no', 'age', 'bmi', 'children_2']\n"
     ]
    }
   ],
   "source": [
    "numerical = ['age', 'bmi', 'sex_female', 'sex_male', 'smoker_no', 'smoker_yes',\n",
    "       'region_northeast', 'region_northwest', 'region_southeast',\n",
    "       'region_southwest', 'children_0', 'children_1', 'children_2',\n",
    "       'children_3', 'children_Over 4']\n",
    "\n",
    "# calculate the correlation coefficients between numerical features and the target variable\n",
    "corr_coeffs = insurance_data_encoded[numerical].corrwith(insurance_data_encoded['charges'])\n",
    "\n",
    "# sort the correlation coefficients in descending order and select the top 5 features\n",
    "top5_corr = corr_coeffs.abs().sort_values(ascending=False)[:5].index.tolist()\n",
    "\n",
    "# print the top 5 features\n",
    "print(top5_corr)\n"
   ]
  },
  {
   "cell_type": "markdown",
   "id": "cc45c45a",
   "metadata": {},
   "source": [
    ">>>The features dropped are sex_female, sex_male, region_northeast, region_northwest, region_southeast,\n",
    "       region_southwest, children_0, children_1, children_3 and children_Over 4.\n",
    "This means that these features in the dataset may have been deemed less important or informative for predicting the target variable(charges), and were therefore not included in the selected feature set."
   ]
  },
  {
   "cell_type": "markdown",
   "id": "87c4d6c0",
   "metadata": {},
   "source": [
    "### Correlation Heatmap for Top 5 Features"
   ]
  },
  {
   "cell_type": "code",
   "execution_count": 36,
   "id": "77b6149a",
   "metadata": {
    "scrolled": false
   },
   "outputs": [
    {
     "name": "stderr",
     "output_type": "stream",
     "text": [
      "<ipython-input-36-938170b65058>:6: SettingWithCopyWarning: \n",
      "A value is trying to be set on a copy of a slice from a DataFrame.\n",
      "Try using .loc[row_indexer,col_indexer] = value instead\n",
      "\n",
      "See the caveats in the documentation: https://pandas.pydata.org/pandas-docs/stable/user_guide/indexing.html#returning-a-view-versus-a-copy\n",
      "  top_5_features['charges'] = y\n"
     ]
    },
    {
     "data": {
      "image/png": "[encoded data removed]",
      "text/plain": [
       "<Figure size 576x432 with 2 Axes>"
      ]
     },
     "metadata": {},
     "output_type": "display_data"
    }
   ],
   "source": [
    "# select only the top 5 features\n",
    "top_5_feature_names = ['age', 'bmi', 'smoker_no', 'smoker_yes', 'children_2']\n",
    "top_5_features = X[top_5_feature_names]\n",
    "\n",
    "# add the target variable to the top 5 features\n",
    "top_5_features['charges'] = y\n",
    "\n",
    "# compute the correlation matrix\n",
    "corr = top_5_features.corr()\n",
    "\n",
    "# plot the correlation heatmap\n",
    "plt.figure(figsize=(8, 6))\n",
    "sns.heatmap(corr, annot=True, cmap='coolwarm', vmin=-1, vmax=1)\n",
    "plt.title('Correlation Heatmap for Top 5 Features with Charges')\n",
    "plt.show()\n"
   ]
  },
  {
   "cell_type": "markdown",
   "id": "f5421fd7",
   "metadata": {},
   "source": [
    "## ADS Assignment 8."
   ]
  },
  {
   "cell_type": "markdown",
   "id": "04fd473f",
   "metadata": {},
   "source": [
    "1. Convert the target labels to their respective log values and give 2 reasons why this step\n",
    "may be useful as we train the machine learning model. (Explain in a markdown cell.)"
   ]
  },
  {
   "cell_type": "code",
   "execution_count": 40,
   "id": "d7fb0c91",
   "metadata": {},
   "outputs": [],
   "source": [
    "# Convert target variable to log values\n",
    "y_log = np.log(y)\n"
   ]
  },
  {
   "cell_type": "markdown",
   "id": "6346543e",
   "metadata": {},
   "source": [
    "2. Slice the selected feature columns and the labels into the training and testing set. Also\n",
    "ensure your features are normalized"
   ]
  },
  {
   "cell_type": "code",
   "execution_count": 42,
   "id": "00477d1f",
   "metadata": {},
   "outputs": [],
   "source": [
    "# Split the data into training and testing sets (70% training, 30% testing)\n",
    "X_train, X_test, y_train, y_test = train_test_split(X[top_5_feature_names], y_log, test_size=0.3, random_state=42)\n",
    "\n",
    "# Normalize the feature data using StandardScaler\n",
    "scaler = StandardScaler()\n",
    "X_train_scaled = scaler.fit_transform(X_train)\n",
    "X_test_scaled = scaler.transform(X_test)\n"
   ]
  },
  {
   "cell_type": "markdown",
   "id": "b23d74ed",
   "metadata": {},
   "source": [
    "3. Use at least 4 different regression based machine learning methods and use the training\n",
    "and testing cross accuracy and divergence to identify the best model."
   ]
  },
  {
   "cell_type": "code",
   "execution_count": 54,
   "id": "b28d041c",
   "metadata": {},
   "outputs": [
    {
     "name": "stdout",
     "output_type": "stream",
     "text": [
      "Linear Regression MSE: 0.23, R2: 0.73\n",
      "Decision Tree Regression MSE: 0.30, R2: 0.63\n",
      "Random Forest Regression MSE: 0.22, R2: 0.73\n",
      "XGBoost Regression MSE: 0.24, R2: 0.71\n"
     ]
    }
   ],
   "source": [
    "# Train and evaluate Linear Regression model\n",
    "lr_model = LinearRegression()\n",
    "lr_model.fit(X_train_scaled, y_train)\n",
    "y_pred_lr = lr_model.predict(X_test_scaled)\n",
    "mse_lr = mean_squared_error(y_test, y_pred_lr)\n",
    "r2_lr = r2_score(y_test, y_pred_lr)\n",
    "\n",
    "# Train and evaluate Decision Tree Regression model\n",
    "dt_model = DecisionTreeRegressor()\n",
    "dt_model.fit(X_train_scaled, y_train)\n",
    "y_pred_dt = dt_model.predict(X_test_scaled)\n",
    "mse_dt = mean_squared_error(y_test, y_pred_dt)\n",
    "r2_dt = r2_score(y_test, y_pred_dt)\n",
    "\n",
    "# Train and evaluate Random Forest Regression model\n",
    "rf_model = RandomForestRegressor()\n",
    "rf_model.fit(X_train_scaled, y_train)\n",
    "y_pred_rf = rf_model.predict(X_test_scaled)\n",
    "mse_rf = mean_squared_error(y_test, y_pred_rf)\n",
    "r2_rf = r2_score(y_test, y_pred_rf)\n",
    "\n",
    "# Train and evaluate XGBoost Regression model\n",
    "xgb_model = XGBRegressor()\n",
    "xgb_model.fit(X_train_scaled, y_train)\n",
    "y_pred_xgb = xgb_model.predict(X_test_scaled)\n",
    "mse_xgb = mean_squared_error(y_test, y_pred_xgb)\n",
    "r2_xgb = r2_score(y_test, y_pred_xgb)\n",
    "\n",
    "# Print the Mean Squared Error (MSE) and R-squared (R2) values for each model\n",
    "print('Linear Regression MSE: {:.2f}, R2: {:.2f}'.format(mse_lr, r2_lr))\n",
    "print('Decision Tree Regression MSE: {:.2f}, R2: {:.2f}'.format(mse_dt, r2_dt))\n",
    "print('Random Forest Regression MSE: {:.2f}, R2: {:.2f}'.format(mse_rf, r2_rf))\n",
    "print('XGBoost Regression MSE: {:.2f}, R2: {:.2f}'.format(mse_xgb, r2_xgb))\n"
   ]
  },
  {
   "cell_type": "markdown",
   "id": "ff575d4f",
   "metadata": {},
   "source": [
    ">>> The best model is therefore Random Forest Regression since it has the lowest MSE (0.22) and the highest R2 (0.73)."
   ]
  },
  {
   "cell_type": "markdown",
   "id": "b249c0a7",
   "metadata": {},
   "source": [
    "4. After identifying the best model, train it with the training data again. Using at least 3\n",
    "model evaluation metrics in regression, evaluate the models training and testing score.\n",
    "Also ensure as you test the models, the predicted and actual targets have been converted\n",
    "back to the original values using antilog. (Hint: Antilog function is equal to Exponential)"
   ]
  },
  {
   "cell_type": "code",
   "execution_count": 71,
   "id": "6a862fa9",
   "metadata": {},
   "outputs": [
    {
     "name": "stdout",
     "output_type": "stream",
     "text": [
      "Random Forest Regression Training Scores:\n",
      "MSE: 5355882.62\n",
      "MAE: 1041.80\n",
      "R2 score: 0.96\n",
      "\n",
      "Random Forest Regression Testing Scores:\n",
      "MSE: 20891100.03\n",
      "MAE: 2234.00\n",
      "R2 score: 0.85\n"
     ]
    }
   ],
   "source": [
    "# create random forest regression model\n",
    "rf_reg = RandomForestRegressor(n_estimators=100, random_state=42)\n",
    "\n",
    "# train the model on training data\n",
    "rf_reg.fit(X_train_scaled, y_train)\n",
    "\n",
    "# predict the target values for training and testing sets\n",
    "y_train_pred_log = rf_reg.predict(X_train_scaled)\n",
    "y_test_pred_log = rf_reg.predict(X_test_scaled)\n",
    "\n",
    "# convert predicted and actual targets back to original values\n",
    "y_train_pred = np.exp(y_train_pred_log)\n",
    "y_test_pred = np.exp(y_test_pred_log)\n",
    "y_train_orig = np.exp(y_train)\n",
    "y_test_orig = np.exp(y_test)\n",
    "\n",
    "# calculate regression metrics for training and testing sets\n",
    "train_mse = mean_squared_error(y_train_orig, y_train_pred)\n",
    "test_mse = mean_squared_error(y_test_orig, y_test_pred)\n",
    "train_mae = mean_absolute_error(y_train_orig, y_train_pred)\n",
    "test_mae = mean_absolute_error(y_test_orig, y_test_pred)\n",
    "train_r2 = r2_score(y_train_orig, y_train_pred)\n",
    "test_r2 = r2_score(y_test_orig, y_test_pred)\n",
    "\n",
    "# print regression metrics\n",
    "print(\"Random Forest Regression Training Scores:\")\n",
    "print(\"MSE: {:.2f}\".format(train_mse))\n",
    "print(\"MAE: {:.2f}\".format(train_mae))\n",
    "print(\"R2 score: {:.2f}\".format(train_r2))\n",
    "print()\n",
    "print(\"Random Forest Regression Testing Scores:\")\n",
    "print(\"MSE: {:.2f}\".format(test_mse))\n",
    "print(\"MAE: {:.2f}\".format(test_mae))\n",
    "print(\"R2 score: {:.2f}\".format(test_r2))\n"
   ]
  },
  {
   "cell_type": "markdown",
   "id": "1d6ecbef",
   "metadata": {},
   "source": [
    ">>>These metrics indicate that the Random Forest Regression model is performing well on both the training and testing sets and is not overfitting."
   ]
  },
  {
   "cell_type": "code",
   "execution_count": null,
   "id": "6bd5db3e",
   "metadata": {},
   "outputs": [],
   "source": []
  }
 ],
 "metadata": {
  "kernelspec": {
   "display_name": "Python 3",
   "language": "python",
   "name": "python3"
  },
  "language_info": {
   "codemirror_mode": {
    "name": "ipython",
    "version": 3
   },
   "file_extension": ".py",
   "mimetype": "text/x-python",
   "name": "python",
   "nbconvert_exporter": "python",
   "pygments_lexer": "ipython3",
   "version": "3.8.8"
  }
 },
 "nbformat": 4,
 "nbformat_minor": 5
}
